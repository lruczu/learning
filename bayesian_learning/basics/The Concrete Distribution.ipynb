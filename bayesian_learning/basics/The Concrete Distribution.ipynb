{
 "cells": [
  {
   "cell_type": "markdown",
   "metadata": {},
   "source": [
    "[The Concrete Distribution: A Continuous Relaxation of Discrete Random Variables\n",
    "](https://arxiv.org/abs/1611.00712)"
   ]
  },
  {
   "cell_type": "markdown",
   "metadata": {},
   "source": [
    "Main problem:\n",
    "$$\n",
    "\\Large\\nabla_{\\theta}E_{X \\sim p_{\\phi}}[f_{\\theta}(X)]\n",
    "$$\n",
    "\n",
    "X is a discrete random variable.\n",
    "\n",
    "We need to compute gradients with respect to $\\theta$ and $\\phi$.\n",
    "- $\\theta$\n",
    "$$\n",
    "\\Large E_{X \\sim p_{\\phi}}[\\nabla_{\\theta}f_{\\theta}(X)]\n",
    "$$\n",
    "<br>\n",
    "Use Monte-Carlo sampling.\n",
    "<br><br>\n",
    "- $\\phi$\n",
    "$$\n",
    "\\Large\\nabla_{\\phi}E_{X \\sim p_{\\phi}}[f_{\\theta}(X)] = \\int f_{\\theta}(x) \\nabla_{\\phi}p_{\\phi}(x)\n",
    "$$\n",
    "<br>\n",
    "It doesn't lead to Monte Carlo estimation."
   ]
  },
  {
   "cell_type": "markdown",
   "metadata": {},
   "source": [
    "### Score Function Estimators"
   ]
  },
  {
   "cell_type": "markdown",
   "metadata": {},
   "source": [
    "SFE is also known as REINFORCE or likelihood ratio estimator.\n",
    "Note that: <br><br>\n",
    "$$\n",
    "\\Large \\nabla_{\\phi} log p_{\\phi}(x) = \\frac{1}{p_{\\phi}(x)}\\nabla_{\\phi} p_{\\phi}(x)\n",
    "$$ \n",
    "<br><br>\n",
    "\n",
    "So\n",
    "$$\n",
    "\\Large \\nabla_{\\phi} p_{\\phi}(x) = p_{\\phi}(x) \\nabla_{\\phi} log p_{\\phi}(x)\n",
    "$$\n",
    "\n",
    "\n",
    "<br><br>\n",
    "- $\\phi$\n",
    "$$ \n",
    "\\Large\\nabla_{\\phi}E_{X \\sim p_{\\phi}} [f_{\\theta}(X)] = \\int f_{\\theta}(x) \\nabla_{\\phi}p_{\\phi}(x) = \\int f_{\\theta}(x) p_{\\phi}(x) \\nabla_{\\phi} log p_{\\phi}(x) = E_{X \\sim p_{\\phi}} [f_{\\theta}(X)\\nabla_{\\phi}log p_{\\phi}(X)]\n",
    "$$<br><br>\n",
    "Now you can use Monte Carlo sampling\n",
    "<br>"
   ]
  },
  {
   "cell_type": "markdown",
   "metadata": {},
   "source": [
    "### Reparameterization Trick"
   ]
  },
  {
   "cell_type": "markdown",
   "metadata": {},
   "source": [
    "In general to get a sample from $p_\\phi (x)$, first sample Z from some fixed distribution q(z) and then transform this sample using some function $g_{\\phi}(z)$.\n",
    "<br>\n",
    "Example:\n",
    "<br>\n",
    "$g_{\\mu, \\sigma}(Z) = \\mu + \\sigma * Z$, where Z is sampled from $N(0, 1)$.\n",
    "\n",
    "\n",
    "$f_{\\theta}(x) = f_{\\theta}(g_{\\phi}(z))$\n",
    "\n",
    "$$\n",
    "\\Large E_{X \\sim p_{\\phi}(x)}[f_{\\theta}(X)] = E_{Z \\sim q(z)}[f_{\\theta}(g_{\\phi}(Z))]\n",
    "$$\n",
    "\n",
    "$$\n",
    "\\Large \\nabla_{\\phi}E_{Z \\sim q(z)}[f_{\\theta}(g_{\\phi}(Z))] = E_{Z \\sim q(z)}[f_{\\theta}^{'}(g_{\\phi}(Z))\\nabla_{\\phi}g_{\\phi}(Z)]\n",
    "$$"
   ]
  },
  {
   "cell_type": "markdown",
   "metadata": {},
   "source": [
    "## The Concrete Distribution"
   ]
  },
  {
   "cell_type": "markdown",
   "metadata": {},
   "source": [
    "### Discrete random variables and the Gumber-Max trick"
   ]
  },
  {
   "cell_type": "markdown",
   "metadata": {},
   "source": [
    "Consider $(\\alpha_{1}, ..., \\alpha_{n})$, where $\\alpha_{k}$ > 0. $D \\sim Discrete(\\alpha)$. We can assume that states with 0 probability are excluded.\n",
    "\n",
    "Gumbel-Max-Trick:\n",
    "- For each k, sample $U_{k} \\sim Uniform(0, 1)$\n",
    "- Find k that maximizes $(log \\alpha_{k} - log(-U_{k})$ <br><br>\n",
    "Then $P(D_{k}) = \\frac{\\alpha_{k}}{\\sum_{i=1}^{n}\\alpha_{i}}$"
   ]
  },
  {
   "cell_type": "code",
   "execution_count": 1,
   "metadata": {},
   "outputs": [],
   "source": [
    "import numpy as np"
   ]
  },
  {
   "cell_type": "code",
   "execution_count": 2,
   "metadata": {},
   "outputs": [],
   "source": [
    "alpha = (0.15, 0.55, 0.3)\n",
    "epsilon = 1e-6"
   ]
  },
  {
   "cell_type": "code",
   "execution_count": 3,
   "metadata": {},
   "outputs": [],
   "source": [
    "def take_sample(n_samples: int) -> np.ndarray:\n",
    "    samples = []\n",
    "    for _ in range(n_samples):\n",
    "        u = np.random.uniform(0, 1, size=3)\n",
    "        max_k = np.argmax(np.log(alpha) - np.log(-np.log(u)))\n",
    "        samples.append(max_k)\n",
    "    return np.array(samples)"
   ]
  },
  {
   "cell_type": "code",
   "execution_count": 4,
   "metadata": {},
   "outputs": [],
   "source": [
    "samples1000 = take_sample(1000)"
   ]
  },
  {
   "cell_type": "code",
   "execution_count": 5,
   "metadata": {},
   "outputs": [
    {
     "name": "stdout",
     "output_type": "stream",
     "text": [
      "alpha1 probability: 0.167\n",
      "alpha2 probability: 0.548\n",
      "alpha3 probability: 0.285\n"
     ]
    }
   ],
   "source": [
    "print(f'alpha1 probability: {(np.array(samples1000) == 0).mean()}')\n",
    "print(f'alpha2 probability: {(np.array(samples1000) == 1).mean()}')\n",
    "print(f'alpha3 probability: {(np.array(samples1000) == 2).mean()}')"
   ]
  },
  {
   "cell_type": "code",
   "execution_count": 6,
   "metadata": {},
   "outputs": [],
   "source": [
    "samples10000 = take_sample(10000)"
   ]
  },
  {
   "cell_type": "code",
   "execution_count": 7,
   "metadata": {},
   "outputs": [
    {
     "name": "stdout",
     "output_type": "stream",
     "text": [
      "alpha1 probability: 0.1468\n",
      "alpha2 probability: 0.5502\n",
      "alpha3 probability: 0.303\n"
     ]
    }
   ],
   "source": [
    "print(f'alpha1 probability: {(np.array(samples10000) == 0).mean()}')\n",
    "print(f'alpha2 probability: {(np.array(samples10000) == 1).mean()}')\n",
    "print(f'alpha3 probability: {(np.array(samples10000) == 2).mean()}')"
   ]
  },
  {
   "cell_type": "code",
   "execution_count": 8,
   "metadata": {},
   "outputs": [],
   "source": [
    "samples100000 = take_sample(100000)"
   ]
  },
  {
   "cell_type": "code",
   "execution_count": 9,
   "metadata": {},
   "outputs": [
    {
     "name": "stdout",
     "output_type": "stream",
     "text": [
      "alpha1 probability: 0.1481\n",
      "alpha2 probability: 0.55218\n",
      "alpha3 probability: 0.29972\n"
     ]
    }
   ],
   "source": [
    "print(f'alpha1 probability: {(np.array(samples100000) == 0).mean()}')\n",
    "print(f'alpha2 probability: {(np.array(samples100000) == 1).mean()}')\n",
    "print(f'alpha3 probability: {(np.array(samples100000) == 2).mean()}')"
   ]
  },
  {
   "cell_type": "markdown",
   "metadata": {},
   "source": [
    "### Concrete Random Variables"
   ]
  },
  {
   "cell_type": "markdown",
   "metadata": {},
   "source": [
    "The derivative of the argmax is 0 everywhere except at the boundary of state changes, where it is\n",
    "undefined. For this reason the Gumbel-Max trick is not a suitable reparameterization."
   ]
  },
  {
   "cell_type": "markdown",
   "metadata": {},
   "source": [
    "Simplex $\\nabla^{n-1} = \\{x \\in R^{n}| x_{k} \\in [0, 1], \\sum_{k=1}^{n}x_{k} = 1\\}$ <br>\n",
    "\n",
    "To sample a Concrete random variable $X \\in \\nabla^{n-1}$ at temperature $\\lambda \\in (0, \\infty)$, sample $G_{k} \\sim Gumbel$ i.i.d. and set <br><br>\n",
    "$\\Large X_{k} = \\frac{e^{(log (\\alpha_{k}) + G_{k}) / \\lambda}}{\\sum_{i=1}^{n}e^{(log (\\alpha_{i}) + G_{i}) / \\lambda}}$\n",
    "\n",
    "$\\Large X \\sim Concrete(\\alpha, \\lambda)$"
   ]
  },
  {
   "cell_type": "markdown",
   "metadata": {},
   "source": [
    "The bigger $\\lambda$ is, more relaxation is applied <br><br>\n",
    "As a side note: $-log(-log U)$ has a Gumbel distribution (i.e. $Gumbel(0, 1)$)"
   ]
  },
  {
   "cell_type": "code",
   "execution_count": 10,
   "metadata": {},
   "outputs": [],
   "source": [
    "%matplotlib inline\n",
    "\n",
    "import matplotlib.pyplot as plt\n",
    "import tensorflow as tf\n",
    "import tensorflow_probability as tfp"
   ]
  },
  {
   "cell_type": "code",
   "execution_count": 11,
   "metadata": {},
   "outputs": [],
   "source": [
    "gumbel = tfp.distributions.Gumbel(loc=0, scale=1)"
   ]
  },
  {
   "cell_type": "code",
   "execution_count": 12,
   "metadata": {},
   "outputs": [],
   "source": [
    "us = np.log(-np.log(np.random.uniform(0, 1, size=100000)))"
   ]
  },
  {
   "cell_type": "code",
   "execution_count": 13,
   "metadata": {},
   "outputs": [
    {
     "data": {
      "image/png": "[encoded data removed]",
      "text/plain": [
       "<Figure size 864x432 with 1 Axes>"
      ]
     },
     "metadata": {
      "needs_background": "light"
     },
     "output_type": "display_data"
    }
   ],
   "source": [
    "plt.subplots(figsize=(12, 6))\n",
    "plt.hist(us);"
   ]
  },
  {
   "cell_type": "code",
   "execution_count": 14,
   "metadata": {},
   "outputs": [],
   "source": [
    "x = np.linspace(-12, 2, 1000)"
   ]
  },
  {
   "cell_type": "code",
   "execution_count": 15,
   "metadata": {},
   "outputs": [],
   "source": [
    "y = gumbel.prob(x)"
   ]
  },
  {
   "cell_type": "code",
   "execution_count": 16,
   "metadata": {},
   "outputs": [
    {
     "data": {
      "image/png": "[encoded data removed]",
      "text/plain": [
       "<Figure size 864x432 with 1 Axes>"
      ]
     },
     "metadata": {
      "needs_background": "light"
     },
     "output_type": "display_data"
    }
   ],
   "source": [
    "plt.subplots(figsize=(12, 6))\n",
    "plt.plot(x, y);"
   ]
  },
  {
   "cell_type": "code",
   "execution_count": 17,
   "metadata": {},
   "outputs": [
    {
     "data": {
      "text/plain": [
       "(<tf.Tensor: shape=(), dtype=float32, numpy=0.5772157>,\n",
       " <tf.Tensor: shape=(), dtype=float32, numpy=1.6449342>)"
      ]
     },
     "execution_count": 17,
     "metadata": {},
     "output_type": "execute_result"
    }
   ],
   "source": [
    "gumbel.mean(), gumbel.variance()"
   ]
  },
  {
   "cell_type": "code",
   "execution_count": 18,
   "metadata": {},
   "outputs": [
    {
     "data": {
      "text/plain": [
       "(-0.5837117214179073, 1.6624762232378951)"
      ]
     },
     "execution_count": 18,
     "metadata": {},
     "output_type": "execute_result"
    }
   ],
   "source": [
    "np.mean(us), np.var(us)"
   ]
  },
  {
   "cell_type": "code",
   "execution_count": 19,
   "metadata": {},
   "outputs": [],
   "source": [
    "def sample_gumble(n_samples: int):\n",
    "    return np.log(-np.log(np.random.uniform(0, 1, size=n_samples)))"
   ]
  },
  {
   "cell_type": "code",
   "execution_count": 20,
   "metadata": {},
   "outputs": [],
   "source": [
    "def sample_concrete(alphas, temperature: float):\n",
    "    n = len(alphas)\n",
    "    g = sample_gumble(n)\n",
    "    \n",
    "    return tf.nn.softmax((np.log(alphas) + g) / temperature).numpy()"
   ]
  },
  {
   "cell_type": "code",
   "execution_count": 21,
   "metadata": {},
   "outputs": [],
   "source": [
    "alphas = (0.15, 0.55, 0.3)"
   ]
  },
  {
   "cell_type": "code",
   "execution_count": 22,
   "metadata": {},
   "outputs": [
    {
     "data": {
      "text/plain": [
       "array([1.22065115e-89, 1.00000000e+00, 2.02708582e-35])"
      ]
     },
     "execution_count": 22,
     "metadata": {},
     "output_type": "execute_result"
    }
   ],
   "source": [
    "sample_concrete(alphas, temperature=0.01)"
   ]
  },
  {
   "cell_type": "code",
   "execution_count": 23,
   "metadata": {},
   "outputs": [
    {
     "data": {
      "text/plain": [
       "array([7.37865420e-208, 1.00000000e+000, 4.88420683e-072])"
      ]
     },
     "execution_count": 23,
     "metadata": {},
     "output_type": "execute_result"
    }
   ],
   "source": [
    "sample_concrete(alphas, temperature=0.01)"
   ]
  },
  {
   "cell_type": "code",
   "execution_count": 24,
   "metadata": {},
   "outputs": [
    {
     "data": {
      "text/plain": [
       "array([7.92883130e-06, 9.99992071e-01, 2.75975907e-27])"
      ]
     },
     "execution_count": 24,
     "metadata": {},
     "output_type": "execute_result"
    }
   ],
   "source": [
    "sample_concrete(alphas, temperature=0.01)"
   ]
  },
  {
   "cell_type": "code",
   "execution_count": 25,
   "metadata": {},
   "outputs": [
    {
     "data": {
      "text/plain": [
       "array([4.56537861e-04, 3.44718922e-01, 6.54824541e-01])"
      ]
     },
     "execution_count": 25,
     "metadata": {},
     "output_type": "execute_result"
    }
   ],
   "source": [
    "sample_concrete(alphas, temperature=0.5)"
   ]
  },
  {
   "cell_type": "code",
   "execution_count": 26,
   "metadata": {},
   "outputs": [
    {
     "data": {
      "text/plain": [
       "array([0.01451632, 0.9732801 , 0.01220358])"
      ]
     },
     "execution_count": 26,
     "metadata": {},
     "output_type": "execute_result"
    }
   ],
   "source": [
    "sample_concrete(alphas, temperature=0.5)"
   ]
  },
  {
   "cell_type": "code",
   "execution_count": 27,
   "metadata": {},
   "outputs": [],
   "source": [
    "n_samples = 10 ** 4\n",
    "X = np.zeros((n_samples, 3))\n",
    "for i in range(n_samples):\n",
    "    X[i] = sample_concrete(alphas, temperature=0.5)"
   ]
  },
  {
   "cell_type": "code",
   "execution_count": 28,
   "metadata": {},
   "outputs": [
    {
     "data": {
      "text/plain": [
       "array([0.14317753, 0.547239  , 0.30958348])"
      ]
     },
     "execution_count": 28,
     "metadata": {},
     "output_type": "execute_result"
    }
   ],
   "source": [
    "X.mean(axis=0)"
   ]
  },
  {
   "cell_type": "markdown",
   "metadata": {},
   "source": [
    "Check some properties of Concrete distribution (presented in the paper) <br><br>\n",
    "(b) Rounding $P(X_{k} > X_{i}, i \\ne k) = \\alpha_{k} / \\sum_{i=1}^{n}\\alpha_{i}$"
   ]
  },
  {
   "cell_type": "code",
   "execution_count": 29,
   "metadata": {},
   "outputs": [
    {
     "data": {
      "text/plain": [
       "0.1118"
      ]
     },
     "execution_count": 29,
     "metadata": {},
     "output_type": "execute_result"
    }
   ],
   "source": [
    "(np.argmax(X, axis=1) == 0).mean()"
   ]
  },
  {
   "cell_type": "code",
   "execution_count": 30,
   "metadata": {},
   "outputs": [
    {
     "data": {
      "text/plain": [
       "0.5836"
      ]
     },
     "execution_count": 30,
     "metadata": {},
     "output_type": "execute_result"
    }
   ],
   "source": [
    "(np.argmax(X, axis=1) == 1).mean()"
   ]
  },
  {
   "cell_type": "code",
   "execution_count": 31,
   "metadata": {},
   "outputs": [
    {
     "data": {
      "text/plain": [
       "0.3046"
      ]
     },
     "execution_count": 31,
     "metadata": {},
     "output_type": "execute_result"
    }
   ],
   "source": [
    "(np.argmax(X, axis=1) == 2).mean()"
   ]
  },
  {
   "cell_type": "code",
   "execution_count": 32,
   "metadata": {},
   "outputs": [],
   "source": [
    "n_samples = 10 ** 5\n",
    "X = np.zeros((n_samples, 3))\n",
    "for i in range(n_samples):\n",
    "    X[i] = sample_concrete(alphas, temperature=0.5)"
   ]
  },
  {
   "cell_type": "code",
   "execution_count": 33,
   "metadata": {},
   "outputs": [
    {
     "data": {
      "text/plain": [
       "0.11077"
      ]
     },
     "execution_count": 33,
     "metadata": {},
     "output_type": "execute_result"
    }
   ],
   "source": [
    "(np.argmax(X, axis=1) == 0).mean()"
   ]
  },
  {
   "cell_type": "code",
   "execution_count": 34,
   "metadata": {},
   "outputs": [
    {
     "data": {
      "text/plain": [
       "0.58703"
      ]
     },
     "execution_count": 34,
     "metadata": {},
     "output_type": "execute_result"
    }
   ],
   "source": [
    "(np.argmax(X, axis=1) == 1).mean()"
   ]
  },
  {
   "cell_type": "code",
   "execution_count": 35,
   "metadata": {},
   "outputs": [
    {
     "data": {
      "text/plain": [
       "0.3022"
      ]
     },
     "execution_count": 35,
     "metadata": {},
     "output_type": "execute_result"
    }
   ],
   "source": [
    "(np.argmax(X, axis=1) == 2).mean()"
   ]
  },
  {
   "cell_type": "code",
   "execution_count": 36,
   "metadata": {},
   "outputs": [
    {
     "data": {
      "text/plain": [
       "array([0.14101267, 0.54799432, 0.31099301])"
      ]
     },
     "execution_count": 36,
     "metadata": {},
     "output_type": "execute_result"
    }
   ],
   "source": [
    "X.mean(axis=0)"
   ]
  },
  {
   "cell_type": "markdown",
   "metadata": {},
   "source": [
    "### The Binary special case"
   ]
  },
  {
   "cell_type": "markdown",
   "metadata": {},
   "source": [
    "$D \\sim Discrete(\\alpha)$ <br><br> $\\alpha \\sim (0, \\infty)^{2}$ <br><br> $D_{1} + D_{2} = 1$\n",
    "\n",
    "Under Gumbel-Max reparametrization, the event that $D_{1} = 1$ is that $\\{G_{1} + log \\alpha_{1} > G_{2} + log \\alpha_{2}\\}$\n",
    "The difference of two Gumbels is a Logistic distribution $G_{1} - G_{2} \\sim Logistic $ which can be sampled in the following way $G_{1} - G_{2} = log(U) - log (1 - U)$\n",
    "\n",
    "So if, $\\alpha = \\frac{\\alpha_{1}}{\\alpha{2}}$, then we have <br><br>\n",
    "$P(D_{1} = 1) = P(G_{1} + log \\alpha_{1} > G_{2} + log \\alpha_{2}) = P(log(U) - log (1 - U) + log(\\alpha) > 0)$ <br>\n",
    "\n",
    "$D_{1} = H(log(U) - log (1 - U) + log(\\alpha))$, where H is the unit step function\n",
    "\n",
    "Correspondingly, we can consider the Binary Concrete relaxation that results from this process. <br>We consider the sampling routine for a Binary Concrete random variable\n",
    "$X \\in (0, 1)$ first. To sample X, sample $L \\sim Logistic$ and set\n",
    "\n",
    "$\\Large X = \\frac{1}{1 + e^{-(log(\\alpha) + L) / \\lambda}}$"
   ]
  },
  {
   "cell_type": "code",
   "execution_count": 37,
   "metadata": {},
   "outputs": [],
   "source": [
    "def sample_logistic(n_samples: int):\n",
    "    u = np.random.uniform(0, 1, size=n_samples)\n",
    "    return np.log(u) - np.log(1 - u)"
   ]
  },
  {
   "cell_type": "code",
   "execution_count": 38,
   "metadata": {},
   "outputs": [],
   "source": [
    "def sample_binary(\n",
    "    alpha1: float, \n",
    "    alpha2: float, \n",
    "    temperature: float,\n",
    "    n_samples: int,\n",
    "):\n",
    "    alpha = alpha1 / alpha2\n",
    "    logits = -(np.log(alpha) + sample_logistic(n_samples)) / temperature\n",
    "    \n",
    "    return 1 / (1 + np.exp(logits))"
   ]
  },
  {
   "cell_type": "code",
   "execution_count": 39,
   "metadata": {},
   "outputs": [
    {
     "data": {
      "text/plain": [
       "array([0.41, 0.  , 0.92, 0.  , 0.97, 1.  , 1.  , 0.01, 0.57, 0.  ])"
      ]
     },
     "execution_count": 39,
     "metadata": {},
     "output_type": "execute_result"
    }
   ],
   "source": [
    "np.round(sample_binary(alpha1=0.4, alpha2=0.6, temperature=0.2, n_samples=10), 2)"
   ]
  },
  {
   "cell_type": "code",
   "execution_count": 40,
   "metadata": {},
   "outputs": [],
   "source": [
    "s = sample_binary(alpha1=0.4, alpha2=0.6, temperature=0.2, n_samples=10 ** 4)"
   ]
  },
  {
   "cell_type": "code",
   "execution_count": 41,
   "metadata": {},
   "outputs": [
    {
     "data": {
      "text/plain": [
       "0.4089985308573816"
      ]
     },
     "execution_count": 41,
     "metadata": {},
     "output_type": "execute_result"
    }
   ],
   "source": [
    "np.mean(s)"
   ]
  },
  {
   "cell_type": "markdown",
   "metadata": {},
   "source": [
    "#### property from the paper\n",
    "(b) (Rounding) $P(X > 0.5) = \\alpha / (1 + \\alpha)$"
   ]
  },
  {
   "cell_type": "code",
   "execution_count": 42,
   "metadata": {},
   "outputs": [
    {
     "data": {
      "text/plain": [
       "0.4057"
      ]
     },
     "execution_count": 42,
     "metadata": {},
     "output_type": "execute_result"
    }
   ],
   "source": [
    "np.mean(s > 0.5)"
   ]
  }
 ],
 "metadata": {
  "kernelspec": {
   "display_name": "quant_env",
   "language": "python",
   "name": "quant_env"
  },
  "language_info": {
   "codemirror_mode": {
    "name": "ipython",
    "version": 3
   },
   "file_extension": ".py",
   "mimetype": "text/x-python",
   "name": "python",
   "nbconvert_exporter": "python",
   "pygments_lexer": "ipython3",
   "version": "3.8.5"
  }
 },
 "nbformat": 4,
 "nbformat_minor": 4
}
