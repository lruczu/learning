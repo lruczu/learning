{
 "cells": [
  {
   "cell_type": "code",
   "execution_count": 1,
   "metadata": {},
   "outputs": [],
   "source": [
    "%matplotlib inline\n",
    "\n",
    "import matplotlib.pyplot as plt\n",
    "import numpy as np\n",
    "import tensorflow as tf\n",
    "import tensorflow_probability as tfp\n",
    "\n",
    "tfd = tfp.distributions"
   ]
  },
  {
   "cell_type": "code",
   "execution_count": 2,
   "metadata": {},
   "outputs": [],
   "source": [
    "def generate_data(n_samples: int, mean_0: float = 1., mean_1: float = 5.):\n",
    "    data = []\n",
    "    for _ in range(n_samples):\n",
    "        if np.random.uniform() < 0.4:\n",
    "            data.append(np.random.normal(mean_0, 0.5))\n",
    "        else:\n",
    "            data.append(np.random.normal(mean_1, 0.5))\n",
    "    return data"
   ]
  },
  {
   "cell_type": "code",
   "execution_count": 3,
   "metadata": {},
   "outputs": [],
   "source": [
    "n_samples = 1000\n",
    "data = generate_data(n_samples)"
   ]
  },
  {
   "cell_type": "code",
   "execution_count": 4,
   "metadata": {},
   "outputs": [
    {
     "data": {
      "image/png": "[encoded data removed]",
      "text/plain": [
       "<Figure size 864x288 with 1 Axes>"
      ]
     },
     "metadata": {
      "needs_background": "light"
     },
     "output_type": "display_data"
    }
   ],
   "source": [
    "plt.subplots(figsize=(12, 4))\n",
    "plt.hist(data);"
   ]
  },
  {
   "cell_type": "markdown",
   "metadata": {},
   "source": [
    "We have data $D = \\{x_{1}, ..., x_{1000}\\}$ <br><br>\n",
    "There is some generating process $x_{i} \\sim p(x)$ <br><br>\n",
    "We want to approximate it $q(x, \\theta)$.\n",
    "\n",
    "Let's use maximum likelihood estimation: <br><br>\n",
    "$L(\\theta) = \\prod_{i=1}^{1000}q(x_{i}, \\theta)$<br><br>\n",
    "\n",
    "Or in terms of loss (and log): <br><br>\n",
    "$loss(\\theta) = -\\sum_{i=1}^{1000}log(q(x_{i}, \\theta))$<br><br>\n",
    "\n",
    "This concept is connect to Kullback-Leibler divergence. Let's define empirical distribution $p_{data}$. <br><br>\n",
    "$p_{data}(x) = \\frac{1}{1000}\\sum_{i=1}^{1000}I(x = x_{i})$\n",
    "\n",
    "Basically we want to find such q that minimizes $KL(p_{data}, q)$.\n",
    "\n",
    "$KL(p_{data}, q) = E_{p_{data}}[log(\\frac{p_{data}}{q})] = \\sum_{x_{i}}p_{data}(x_{i})log(\\frac{p_{data}(x_{i})}{q(x_{i}, \\theta)}) = -\\sum_{x_{i}}p_{data}(x_{i})log(q(x_{i}, \\theta))$ <br><br>\n",
    "\n",
    "In the last equality sign we ignored the terms that don't depend on $\\theta$. The summing is over distinct $x_{i}$ and it can be easily see that the both formulations are equivalent."
   ]
  },
  {
   "cell_type": "code",
   "execution_count": 5,
   "metadata": {},
   "outputs": [],
   "source": [
    "p_data = tfd.Mixture(\n",
    "    cat=tfd.Categorical(probs=np.ones(n_samples) / n_samples),\n",
    "    components=[\n",
    "        tfd.Deterministic(loc=x_i)\n",
    "        for x_i in data\n",
    "    ]\n",
    ")"
   ]
  },
  {
   "cell_type": "code",
   "execution_count": 6,
   "metadata": {},
   "outputs": [
    {
     "data": {
      "text/plain": [
       "<tfp.distributions.Mixture 'Mixture' batch_shape=[] event_shape=[] dtype=float32>"
      ]
     },
     "execution_count": 6,
     "metadata": {},
     "output_type": "execute_result"
    }
   ],
   "source": [
    "p_data"
   ]
  },
  {
   "cell_type": "code",
   "execution_count": 7,
   "metadata": {},
   "outputs": [
    {
     "data": {
      "text/plain": [
       "<tf.Tensor: shape=(), dtype=float32, numpy=5.5257807>"
      ]
     },
     "execution_count": 7,
     "metadata": {},
     "output_type": "execute_result"
    }
   ],
   "source": [
    "p_data.sample()"
   ]
  },
  {
   "cell_type": "code",
   "execution_count": 8,
   "metadata": {},
   "outputs": [
    {
     "data": {
      "image/png": "[encoded data removed]",
      "text/plain": [
       "<Figure size 864x288 with 1 Axes>"
      ]
     },
     "metadata": {
      "needs_background": "light"
     },
     "output_type": "display_data"
    }
   ],
   "source": [
    "plt.subplots(figsize=(12, 4))\n",
    "plt.hist(p_data.sample(1000).numpy());"
   ]
  },
  {
   "cell_type": "markdown",
   "metadata": {},
   "source": [
    "It looks like gaussian mixture, let's find a bimodal distribution, whose distance from empirical one will be minimized."
   ]
  },
  {
   "cell_type": "code",
   "execution_count": 9,
   "metadata": {},
   "outputs": [],
   "source": [
    "q = tfd.Mixture(\n",
    "    cat=tfd.Categorical(tf.Variable([0.5, 0.5], name='proportion')),\n",
    "    components=[\n",
    "        tfd.Normal(\n",
    "            loc=tf.Variable(0.5, name='loc_1'),\n",
    "            scale=tf.Variable(0.5, name='scale_1')\n",
    "        ),\n",
    "        tfd.Normal(\n",
    "            loc=tf.Variable(4.5, name='loc_2'),\n",
    "            scale=tf.Variable(0.5, name='scale_2')\n",
    "        )\n",
    "    ]\n",
    ")"
   ]
  },
  {
   "cell_type": "code",
   "execution_count": 10,
   "metadata": {},
   "outputs": [
    {
     "data": {
      "image/png": "[encoded data removed]",
      "text/plain": [
       "<Figure size 864x288 with 1 Axes>"
      ]
     },
     "metadata": {
      "needs_background": "light"
     },
     "output_type": "display_data"
    }
   ],
   "source": [
    "plt.subplots(figsize=(12, 4))\n",
    "plt.hist(q.sample(1000).numpy(), alpha=0.5, label='q')\n",
    "plt.hist(p_data.sample(1000).numpy(), alpha=0.5, label='p_data')\n",
    "plt.legend();"
   ]
  },
  {
   "cell_type": "code",
   "execution_count": 11,
   "metadata": {},
   "outputs": [
    {
     "ename": "NotImplementedError",
     "evalue": "No KL(distribution_a || distribution_b) registered for distribution_a type Mixture and distribution_b type Mixture",
     "output_type": "error",
     "traceback": [
      "\u001b[0;31m---------------------------------------------------------------------------\u001b[0m",
      "\u001b[0;31mNotImplementedError\u001b[0m                       Traceback (most recent call last)",
      "\u001b[0;32m<ipython-input-11-d22221bf52f4>\u001b[0m in \u001b[0;36m<module>\u001b[0;34m\u001b[0m\n\u001b[1;32m      1\u001b[0m \u001b[0;31m# you need to write code by yourself, because there is no analytical solution in the tfp library\u001b[0m\u001b[0;34m\u001b[0m\u001b[0;34m\u001b[0m\u001b[0;34m\u001b[0m\u001b[0m\n\u001b[1;32m      2\u001b[0m \u001b[0;34m\u001b[0m\u001b[0m\n\u001b[0;32m----> 3\u001b[0;31m \u001b[0mtfd\u001b[0m\u001b[0;34m.\u001b[0m\u001b[0mkl_divergence\u001b[0m\u001b[0;34m(\u001b[0m\u001b[0mp_data\u001b[0m\u001b[0;34m,\u001b[0m \u001b[0mq\u001b[0m\u001b[0;34m)\u001b[0m\u001b[0;34m\u001b[0m\u001b[0;34m\u001b[0m\u001b[0m\n\u001b[0m",
      "\u001b[0;32m~/Documents/Projects/quant_env/lib/python3.8/site-packages/tensorflow_probability/python/distributions/kullback_leibler.py\u001b[0m in \u001b[0;36mkl_divergence\u001b[0;34m(distribution_a, distribution_b, allow_nan_stats, name)\u001b[0m\n\u001b[1;32m     89\u001b[0m   \u001b[0mkl_fn\u001b[0m \u001b[0;34m=\u001b[0m \u001b[0m_registered_kl\u001b[0m\u001b[0;34m(\u001b[0m\u001b[0mtype\u001b[0m\u001b[0;34m(\u001b[0m\u001b[0mdistribution_a\u001b[0m\u001b[0;34m)\u001b[0m\u001b[0;34m,\u001b[0m \u001b[0mtype\u001b[0m\u001b[0;34m(\u001b[0m\u001b[0mdistribution_b\u001b[0m\u001b[0;34m)\u001b[0m\u001b[0;34m)\u001b[0m\u001b[0;34m\u001b[0m\u001b[0;34m\u001b[0m\u001b[0m\n\u001b[1;32m     90\u001b[0m   \u001b[0;32mif\u001b[0m \u001b[0mkl_fn\u001b[0m \u001b[0;32mis\u001b[0m \u001b[0;32mNone\u001b[0m\u001b[0;34m:\u001b[0m\u001b[0;34m\u001b[0m\u001b[0;34m\u001b[0m\u001b[0m\n\u001b[0;32m---> 91\u001b[0;31m     raise NotImplementedError(\n\u001b[0m\u001b[1;32m     92\u001b[0m         \u001b[0;34m\"No KL(distribution_a || distribution_b) registered for distribution_a \"\u001b[0m\u001b[0;34m\u001b[0m\u001b[0;34m\u001b[0m\u001b[0m\n\u001b[1;32m     93\u001b[0m         \"type {} and distribution_b type {}\".format(\n",
      "\u001b[0;31mNotImplementedError\u001b[0m: No KL(distribution_a || distribution_b) registered for distribution_a type Mixture and distribution_b type Mixture"
     ]
    }
   ],
   "source": [
    "# you need to write code by yourself, because there is no analytical solution in the tfp library \n",
    "\n",
    "tfd.kl_divergence(p_data, q)"
   ]
  },
  {
   "cell_type": "code",
   "execution_count": 12,
   "metadata": {},
   "outputs": [
    {
     "name": "stdout",
     "output_type": "stream",
     "text": [
      "loss after step: 1 = 1.912766695022583\n",
      "loss after step: 2 = 1.8465700149536133\n",
      "loss after step: 3 = 1.7979650497436523\n",
      "loss after step: 4 = 1.7639074325561523\n",
      "loss after step: 5 = 1.7678234577178955\n",
      "loss after step: 6 = 1.6863621473312378\n",
      "loss after step: 7 = 1.679490566253662\n",
      "loss after step: 8 = 1.7379040718078613\n",
      "loss after step: 9 = 1.6211357116699219\n",
      "loss after step: 10 = 1.6803383827209473\n",
      "loss after step: 11 = 1.6097594499588013\n",
      "loss after step: 12 = 1.5587395429611206\n",
      "loss after step: 13 = 1.6207404136657715\n",
      "loss after step: 14 = 1.6353974342346191\n",
      "loss after step: 15 = 1.5616978406906128\n",
      "loss after step: 16 = 1.5589146614074707\n",
      "loss after step: 17 = 1.5718300342559814\n",
      "loss after step: 18 = 1.5779242515563965\n",
      "loss after step: 19 = 1.61593496799469\n",
      "loss after step: 20 = 1.5183606147766113\n",
      "loss after step: 21 = 1.5526570081710815\n",
      "loss after step: 22 = 1.5483267307281494\n",
      "loss after step: 23 = 1.4995334148406982\n",
      "loss after step: 24 = 1.5342929363250732\n",
      "loss after step: 25 = 1.5090149641036987\n",
      "loss after step: 26 = 1.5274102687835693\n",
      "loss after step: 27 = 1.5463898181915283\n",
      "loss after step: 28 = 1.4925094842910767\n",
      "loss after step: 29 = 1.5525765419006348\n",
      "loss after step: 30 = 1.4916836023330688\n",
      "loss after step: 31 = 1.4538605213165283\n",
      "loss after step: 32 = 1.4783401489257812\n",
      "loss after step: 33 = 1.4354302883148193\n",
      "loss after step: 34 = 1.4375001192092896\n",
      "loss after step: 35 = 1.5012187957763672\n",
      "loss after step: 36 = 1.3902919292449951\n",
      "loss after step: 37 = 1.4775702953338623\n",
      "loss after step: 38 = 1.5214415788650513\n",
      "loss after step: 39 = 1.3932456970214844\n",
      "loss after step: 40 = 1.4524990320205688\n",
      "loss after step: 41 = 1.437027096748352\n",
      "loss after step: 42 = 1.4301047325134277\n",
      "loss after step: 43 = 1.5132993459701538\n",
      "loss after step: 44 = 1.4215341806411743\n",
      "loss after step: 45 = 1.4193692207336426\n",
      "loss after step: 46 = 1.4380909204483032\n",
      "loss after step: 47 = 1.4248356819152832\n",
      "loss after step: 48 = 1.4437357187271118\n",
      "loss after step: 49 = 1.399955153465271\n",
      "loss after step: 50 = 1.3922233581542969\n"
     ]
    }
   ],
   "source": [
    "n_steps = 50\n",
    "batch_size = 300\n",
    "optimizer = tf.keras.optimizers.Adam(learning_rate=1e-2)\n",
    "\n",
    "loss_history = []\n",
    "\n",
    "for i in range(n_steps):\n",
    "    sample = p_data.sample(batch_size)\n",
    "\n",
    "    with tf.GradientTape() as tape:\n",
    "        \n",
    "        loss = -tf.reduce_mean(q.log_prob(sample))\n",
    "    \n",
    "    grads = tape.gradient(loss, q.trainable_variables)\n",
    "    optimizer.apply_gradients(zip(grads, q.trainable_variables))\n",
    "    \n",
    "    \n",
    "    #if i % 20:\n",
    "    print(f'loss after step: {i + 1} = {loss}')\n",
    "    loss_history.append(loss.numpy())"
   ]
  },
  {
   "cell_type": "code",
   "execution_count": 13,
   "metadata": {},
   "outputs": [],
   "source": [
    "def moving_average(x):\n",
    "    return np.cumsum(x) / np.arange(1, len(x) + 1)"
   ]
  },
  {
   "cell_type": "code",
   "execution_count": 14,
   "metadata": {},
   "outputs": [
    {
     "data": {
      "image/png": "[encoded data removed]",
      "text/plain": [
       "<Figure size 864x288 with 1 Axes>"
      ]
     },
     "metadata": {
      "needs_background": "light"
     },
     "output_type": "display_data"
    }
   ],
   "source": [
    "plt.subplots(figsize=(12, 4))\n",
    "plt.plot(np.arange(1, n_steps + 1), loss_history, label='loss per step')\n",
    "plt.plot(np.arange(1, n_steps + 1), moving_average(loss_history), label='smoothed loss')\n",
    "plt.xlabel('step')\n",
    "plt.ylabel('loss')\n",
    "plt.legend();"
   ]
  },
  {
   "cell_type": "code",
   "execution_count": 15,
   "metadata": {},
   "outputs": [
    {
     "data": {
      "image/png": "[encoded data removed]",
      "text/plain": [
       "<Figure size 864x288 with 1 Axes>"
      ]
     },
     "metadata": {
      "needs_background": "light"
     },
     "output_type": "display_data"
    }
   ],
   "source": [
    "plt.subplots(figsize=(12, 4))\n",
    "plt.hist(q.sample(1000).numpy(), alpha=0.5, label='q')\n",
    "plt.hist(p_data.sample(1000).numpy(), alpha=0.5, label='p_data')\n",
    "plt.legend();"
   ]
  },
  {
   "cell_type": "code",
   "execution_count": 16,
   "metadata": {},
   "outputs": [
    {
     "data": {
      "text/plain": [
       "(<tf.Variable 'proportion:0' shape=(2,) dtype=float32, numpy=array([0.28932348, 0.71067667], dtype=float32)>,\n",
       " <tf.Variable 'loc_1:0' shape=() dtype=float32, numpy=0.8905964>,\n",
       " <tf.Variable 'scale_1:0' shape=() dtype=float32, numpy=0.52047616>,\n",
       " <tf.Variable 'loc_2:0' shape=() dtype=float32, numpy=4.8718786>,\n",
       " <tf.Variable 'scale_2:0' shape=() dtype=float32, numpy=0.5298672>)"
      ]
     },
     "execution_count": 16,
     "metadata": {},
     "output_type": "execute_result"
    }
   ],
   "source": [
    "q.variables"
   ]
  }
 ],
 "metadata": {
  "kernelspec": {
   "display_name": "quant_env",
   "language": "python",
   "name": "quant_env"
  },
  "language_info": {
   "codemirror_mode": {
    "name": "ipython",
    "version": 3
   },
   "file_extension": ".py",
   "mimetype": "text/x-python",
   "name": "python",
   "nbconvert_exporter": "python",
   "pygments_lexer": "ipython3",
   "version": "3.8.5"
  }
 },
 "nbformat": 4,
 "nbformat_minor": 4
}
